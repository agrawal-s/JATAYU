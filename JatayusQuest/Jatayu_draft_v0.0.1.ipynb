{
 "cells": [
  {
   "cell_type": "code",
   "execution_count": 3,
   "metadata": {},
   "outputs": [],
   "source": [
    "from turtle import Turtle, Screen\n",
    "\n",
    "wn = Screen()\n",
    "wn.bgcolor(\"black\")\n",
    "wn.title(\"Space invaders\")\n"
   ]
  },
  {
   "cell_type": "code",
   "execution_count": 1,
   "metadata": {},
   "outputs": [],
   "source": [
    "from turtle import Turtle, Screen\n",
    "class Pen(Turtle):\n",
    "    def __init__(self):\n",
    "        turtle.Turtle.__init(self)\n",
    "        self.shape('square')\n",
    "        self.color('white')\n",
    "        self.penup()\n",
    "        self.speed(0)\n",
    "\n",
    "#\n",
    "\n",
    "\n",
    "\n",
    "        "
   ]
  },
  {
   "cell_type": "code",
   "execution_count": 37,
   "metadata": {},
   "outputs": [],
   "source": [
    "obs = '###'\n",
    "wat = '~~~'\n",
    "bdg = '[B]'\n",
    "bck = '[K]'\n",
    "ice =  '-I-'\n",
    "tlp = '(T)'\n",
    "mir = [' /|', '|\\ ',' \\|', '|/ ']\n",
    "att = ['[U]','[D]','[L]','[R]']\n",
    "ply = ['[^]','[v]','[<]','[>]']\n",
    "\n",
    "tsr = ' $ '\n",
    "dvl = '\\A/'\n",
    "plr = '{+}'  # note: player always starts on a land tile\n",
    "itm = '(!)'\n",
    "sge = '[&]'\n",
    "\n",
    "lnd = '   '\n",
    "flg = ' F '\n",
    "grid_data = [[] for _ in range(25)]\n",
    "grid_data[0] = [obs,obs,obs,obs,obs,obs,obs,obs,obs,obs,obs,obs,obs,obs,obs,obs,obs,obs,obs,obs,obs,]\n",
    "grid_data[1] = [obs,lnd,dvl,lnd,lnd,tsr,lnd,lnd,lnd,lnd,lnd,lnd,lnd,lnd,tsr,lnd,lnd,lnd,lnd,flg,obs]\n",
    "grid_data[2] = [obs,lnd,obs,obs,obs,obs,obs,lnd,obs,obs,obs,obs,obs,lnd,obs,obs,obs,obs,obs,obs,obs]\n",
    "grid_data[3] = [obs,lnd,lnd,lnd,lnd,lnd,lnd,lnd,itm,lnd,lnd,lnd,dvl,lnd,lnd,lnd,lnd,lnd,lnd,lnd,obs]\n",
    "grid_data[4] = [obs,obs,obs,obs,lnd,obs,obs,obs,obs,obs,lnd,obs,obs,obs,obs,obs,lnd,obs,obs,obs,obs]\n",
    "grid_data[5] = [obs,lnd,lnd,lnd,lnd,obs,obs,lnd,dvl,lnd,lnd,obs,obs,lnd,lnd,lnd,lnd,obs,obs,obs,obs]\n",
    "grid_data[6] = [obs,itm,obs,obs,obs,obs,obs,lnd,obs,obs,obs,obs,obs,lnd,obs,obs,obs,obs,obs,obs,obs]\n",
    "grid_data[7] = [obs,lnd,lnd,lnd,lnd,lnd,lnd,lnd,lnd,dvl,lnd,lnd,lnd,lnd,lnd,lnd,lnd,lnd,lnd,tsr,obs]\n",
    "grid_data[8] = [obs,obs,obs,obs,obs,wat,wat,wat,itm,obs,obs,obs,obs,obs,obs,obs,obs,obs,obs,obs,obs]\n",
    "grid_data[9] = [obs,obs,lnd,lnd,lnd,lnd,obs,obs,lnd,lnd,lnd,lnd,obs,obs,sge,lnd,lnd,lnd,obs,obs,obs]\n",
    "grid_data[10] = [obs,obs,obs,lnd,lnd,obs,lnd,lnd,lnd,lnd,obs,obs,obs,obs,obs,obs,obs,obs,obs,obs,obs]\n",
    "grid_data[11] = [obs,lnd,lnd,lnd,dvl,lnd,lnd,lnd,lnd,lnd,tsr,lnd,lnd,lnd,lnd,dvl,lnd,lnd,lnd,tsr,obs]\n",
    "grid_data[12] = [obs,lnd,obs,obs,obs,obs,obs,lnd,obs,obs,obs,obs,obs,lnd,obs,obs,obs,obs,obs,obs,obs]\n",
    "grid_data[13] = [obs,tsr,lnd,lnd,lnd,lnd,lnd,lnd,lnd,lnd,lnd,lnd,lnd,lnd,lnd,lnd,lnd,lnd,lnd,lnd,obs]\n",
    "grid_data[14] = [obs,obs,obs,obs,lnd,obs,obs,obs,obs,obs,lnd,obs,obs,obs,obs,obs,lnd,obs,obs,obs,obs]\n",
    "grid_data[15] = [obs,lnd,lnd,lnd,lnd,obs,obs,lnd,lnd,lnd,lnd,obs,obs,lnd,lnd,lnd,lnd,obs,obs,obs,obs]\n",
    "grid_data[16] = [obs,lnd,obs,obs,obs,obs,obs,lnd,obs,obs,obs,obs,obs,lnd,obs,obs,obs,obs,obs,obs,obs]\n",
    "grid_data[17] = [obs,lnd,lnd,tsr,lnd,lnd,lnd,lnd,lnd,lnd,itm,lnd,lnd,lnd,lnd,lnd,lnd,lnd,lnd,plr,obs]\n",
    "grid_data[18] = [obs,obs,obs,obs,obs,obs,obs,obs,obs,obs,obs,obs,obs,obs,obs,obs,obs,obs,obs,obs,obs]\n",
    "\n",
    "\n",
    "#map1 = LaserTankMap( 9, 9, grid_data, player_x=None, player_y=None, player_heading=None)\n",
    "#map1.render()"
   ]
  },
  {
   "cell_type": "code",
   "execution_count": 28,
   "metadata": {},
   "outputs": [],
   "source": [
    "def print_board(grid_data):\n",
    "        #print ('___'*12)\n",
    "        for line in grid_data:\n",
    "            print (''.join(line))\n",
    "            #print ('')"
   ]
  },
  {
   "cell_type": "code",
   "execution_count": 38,
   "metadata": {},
   "outputs": [
    {
     "name": "stdout",
     "output_type": "stream",
     "text": [
      "###############################################################\n",
      "###   \\A/       $                          $              F ###\n",
      "###   ###############   ###############   #####################\n",
      "###                     (!)         \\A/                     ###\n",
      "############   ###############   ###############   ############\n",
      "###            ######   \\A/      ######            ############\n",
      "###(!)###############   ###############   #####################\n",
      "###                        \\A/                            $ ###\n",
      "###############~~~~~~~~~(!)####################################\n",
      "######            ######            ######[&]         #########\n",
      "#########      ###            #################################\n",
      "###         \\A/                $             \\A/          $ ###\n",
      "###   ###############   ###############   #####################\n",
      "### $                                                       ###\n",
      "############   ###############   ###############   ############\n",
      "###            ######            ######            ############\n",
      "###   ###############   ###############   #####################\n",
      "###       $                   (!)                        {+}###\n",
      "###############################################################\n",
      "\n",
      "\n",
      "\n",
      "\n",
      "\n",
      "\n"
     ]
    }
   ],
   "source": [
    "print_board(grid_data)"
   ]
  },
  {
   "cell_type": "code",
   "execution_count": 26,
   "metadata": {},
   "outputs": [],
   "source": [
    "class Cell(object):\n",
    "    def __init__(self):\n",
    "        self.celltype = None\n",
    "        self.map = None\n",
    "        self.x = x\n",
    "        self.y = y\n",
    "        self.gridpos = [y,x]\n",
    "        \n",
    "        \n",
    "class Map(object):\n",
    "    \n",
    "    # input file symbols\n",
    "    LAND_SYMBOL = '   '\n",
    "    WATER_SYMBOL = '~~~'\n",
    "    OBSTACLE_SYMBOL = '###'\n",
    "    #BRIDGE_SYMBOL = '[B]'\n",
    "    #BRICK_SYMBOL = '[K]'\n",
    "    #ICE_SYMBOL = 'III'\n",
    "    #TELEPORT_SYMBOL = '(T)'\n",
    "    TREASURE_SYMBOL = ' $ '\n",
    "    DEVIL_SYMBOL = '\\A/'\n",
    "    FLAG_SYMBOL = ' F '\n",
    "    #MIRROR_UL_SYMBOL = ' /|'\n",
    "    #MIRROR_UR_SYMBOL = '|\\ '\n",
    "    #MIRROR_DL_SYMBOL = ' \\|'\n",
    "    #MIRROR_DR_SYMBOL = '|/ '\n",
    "    PLAYER_SYMBOL = '{+}'  # note: player always starts on a land tile\n",
    "    ITEM_SYMBOL = '(!)'\n",
    "    SAGE_SYMBOL = '[&]'\n",
    "    #PLAYER_DOWN_SYMBOL = '(V)'\n",
    "    #PLAYER_LEFT_SYMBOL = '()'\n",
    "    #PLAYER_RIGHT_SYMBOL = '[>]'\n",
    "    #ANTI_TANK_UP_SYMBOL = '[U]'\n",
    "    #ANTI_TANK_DOWN_SYMBOL = '[D]'\n",
    "    #ANTI_TANK_LEFT_SYMBOL = '[L]'\n",
    "    #ANTI_TANK_RIGHT_SYMBOL = '[R]'\n",
    "    #ANTI_TANK_DESTROYED_SYMBOL = '[X]'\n",
    "    \n",
    "    # directions\n",
    "    UP = 0\n",
    "    DOWN = 1\n",
    "    LEFT = 2\n",
    "    RIGHT = 3\n",
    "    # move return statuses\n",
    "    SUCCESS = 0\n",
    "    COLLISION = 1\n",
    "    GAME_OVER = 2\n",
    "        \n",
    "    def __init__(self, x_size, y_size, grid_data, player_x=None, player_y=None, player_heading=None):\n",
    "        \"\"\"\n",
    "        Build a LaserTank map instance from the given grid data.\n",
    "        :param x_size: width of map\n",
    "        :param y_size: height of map\n",
    "        :param grid_data: matrix with dimensions (y_size, x_size) where each element is a valid symbol\n",
    "        \"\"\"\n",
    "        self.x_size = x_size\n",
    "        self.y_size = y_size\n",
    "        self.grid_data = grid_data\n",
    "\n",
    "        # extract player position and heading if none given\n",
    "        if player_x is None and player_y is None and player_heading is None:\n",
    "            found = False\n",
    "            for i in range(y_size):\n",
    "                row = self.grid_data[i]\n",
    "                for j in range(x_size):\n",
    "                    if row[j] == self.PLAYER_UP_SYMBOL or row[j] == self.PLAYER_DOWN_SYMBOL or \\\n",
    "                            row[j] == self.PLAYER_LEFT_SYMBOL or row[j] == self.PLAYER_RIGHT_SYMBOL:\n",
    "                        found = True\n",
    "                        self.player_x = j\n",
    "                        self.player_y = i\n",
    "                        self.player_heading = {self.PLAYER_UP_SYMBOL: self.UP,\n",
    "                                               self.PLAYER_DOWN_SYMBOL: self.DOWN,\n",
    "                                               self.PLAYER_LEFT_SYMBOL: self.LEFT,\n",
    "                                               self.PLAYER_RIGHT_SYMBOL: self.RIGHT}[row[j]]\n",
    "                        # replace the player symbol with land tile\n",
    "                        row[j] = self.LAND_SYMBOL\n",
    "                        break\n",
    "                if found:\n",
    "                    break\n",
    "            if not found:\n",
    "                raise Exception(\"LaserTank Map Error: Grid data does not contain player symbol\")\n",
    "        elif player_x is None or player_y is None or player_heading is None:\n",
    "            raise Exception(\"LaserTank Map Error: Incomplete player coordinates given\")\n",
    "        else:\n",
    "            self.player_x = player_x\n",
    "            self.player_y = player_y\n",
    "            self.player_heading = player_heading\n"
   ]
  },
  {
   "cell_type": "code",
   "execution_count": 82,
   "metadata": {},
   "outputs": [],
   "source": [
    "def print_statistics(plr):\n",
    "    player_lives = 'Lives:'\n",
    "    for i in range(plr.lives):\n",
    "        player_lives = player_lives+' '+plr.symbol\n",
    "    #print(player_lives)\n",
    "    score_string = 'Score: '+ str(plr.score)\n",
    "    item_string = 'Items: ' + str(plr.items)\n",
    "    #print('Score: ', plr.score)\n",
    "    \n",
    "    #print('Items: ', plr.items)\n",
    "    board = '###'+player_lives +' '+ score_string +' '+ item_string+'###'\n",
    "    print(board)\n",
    "    print('')\n",
    "    \n",
    "    return\n",
    "    "
   ]
  },
  {
   "cell_type": "code",
   "execution_count": 84,
   "metadata": {},
   "outputs": [],
   "source": [
    "class Player(object):\n",
    "    def __init__(self,x,y):\n",
    "        self.symbol = '{+}'\n",
    "        self.map = map\n",
    "        self.x = x\n",
    "        self.y = y\n",
    "        self.gridpos = [y,x]\n",
    "        self.lives = 3\n",
    "        self.score = 0\n",
    "        self.items = [' % ', ' @ ', '?$?']\n",
    "        self.health = 100\n",
    "    \n",
    "    def add_points(self, points):\n",
    "        self.score += points"
   ]
  },
  {
   "cell_type": "code",
   "execution_count": 85,
   "metadata": {},
   "outputs": [],
   "source": [
    "plr1 = Player(1,1)"
   ]
  },
  {
   "cell_type": "code",
   "execution_count": 86,
   "metadata": {},
   "outputs": [
    {
     "name": "stdout",
     "output_type": "stream",
     "text": [
      "###Lives: {+} {+} {+} Score: 0 Items: [' % ', ' @ ', '?$?']###\n",
      "\n"
     ]
    }
   ],
   "source": [
    "print_statistics(plr1)"
   ]
  },
  {
   "cell_type": "code",
   "execution_count": 87,
   "metadata": {},
   "outputs": [
    {
     "name": "stdout",
     "output_type": "stream",
     "text": [
      "###Lives: {+} {+} {+} Score: 0 Items: [' % ', ' @ ', '?$?']###\n",
      "\n",
      "###############################################################\n",
      "###   \\A/       $                          $              F ###\n",
      "###   ###############   ###############   #####################\n",
      "###                     (!)         \\A/                     ###\n",
      "############   ###############   ###############   ############\n",
      "###            ######   \\A/      ######            ############\n",
      "###(!)###############   ###############   #####################\n",
      "###                        \\A/                            $ ###\n",
      "###############~~~~~~~~~(!)####################################\n",
      "######            ######            ######[&]         #########\n",
      "#########      ###            #################################\n",
      "###         \\A/                $             \\A/          $ ###\n",
      "###   ###############   ###############   #####################\n",
      "### $                                                       ###\n",
      "############   ###############   ###############   ############\n",
      "###            ######            ######            ############\n",
      "###   ###############   ###############   #####################\n",
      "###       $                   (!)                        {+}###\n",
      "###############################################################\n",
      "\n",
      "\n",
      "\n",
      "\n",
      "\n",
      "\n"
     ]
    }
   ],
   "source": [
    "print_statistics(plr1)\n",
    "print_board(grid_data)"
   ]
  },
  {
   "cell_type": "code",
   "execution_count": null,
   "metadata": {},
   "outputs": [],
   "source": []
  }
 ],
 "metadata": {
  "kernelspec": {
   "display_name": "Python 3",
   "language": "python",
   "name": "python3"
  },
  "language_info": {
   "codemirror_mode": {
    "name": "ipython",
    "version": 3
   },
   "file_extension": ".py",
   "mimetype": "text/x-python",
   "name": "python",
   "nbconvert_exporter": "python",
   "pygments_lexer": "ipython3",
   "version": "3.7.7"
  }
 },
 "nbformat": 4,
 "nbformat_minor": 4
}
